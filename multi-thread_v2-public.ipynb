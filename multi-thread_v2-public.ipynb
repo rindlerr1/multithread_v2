{
 "cells": [
  {
   "cell_type": "markdown",
   "metadata": {},
   "source": [
    "## **multi-thread V2**\n",
    "\n",
    "\"multi-thread v2\" is a notebook for drawing in and storing **trading data from Alpaca**\n",
    "\n",
    "It differs from V1 in that the functionailty is more narrowly defined to aid in performance.\n",
    "\n",
    "The code leverages the python libraries **\"websocket-client\"** for streaming data needs, and **\"_thread\"** to run concurrent functions. \n",
    "\n",
    "Core Functions: data_streaming(), data_storage()"
   ]
  },
  {
   "cell_type": "code",
   "execution_count": 1,
   "metadata": {},
   "outputs": [],
   "source": [
    "import websocket, json\n",
    "import pandas as pd\n",
    "import datetime\n",
    "import time\n",
    "import os\n",
    "import _thread"
   ]
  },
  {
   "cell_type": "code",
   "execution_count": null,
   "metadata": {},
   "outputs": [],
   "source": [
    "\"\"\"\n",
    "Data Streaming\n",
    "The piece of the notebook covers the code for streaming data from Alpaca using their API into a shared global data dictionary\n",
    "\"\"\"\n",
    "\n",
    "#securities = [\"T.TSLA\"]\n",
    "def data_stream(securities, global_dict): #websocket alpaca trade data stream\n",
    "    \"\"\"\n",
    "    The websocket listening is based on the tutorial found here:\n",
    "    https://www.youtube.com/watch?v=fIzm57idu3Y&t=695s\n",
    "    \"\"\"\n",
    "\n",
    "    #opeing function  \n",
    "    def on_open(ws):\n",
    "        print(\"opened\")\n",
    "        #dictionaries with \"action\" and \"data\" seem to be the format for the websocket\n",
    "        #authentication data\n",
    "        auth_data = {\"action\": \"authenticate\",\n",
    "                     \"data\":{\"key_id\":###, \n",
    "                               \"secret_key\":###}}\n",
    "\n",
    "        #tells the websocket that were a legitimate subscriber to its data\n",
    "        ws.send(json.dumps(auth_data))\n",
    "        #tells the websocket what data we are looking for specifically\n",
    "        listen_message = {\"action\":\"listen\", \"data\":{\"streams\":securities}} #securities used to be [\"T.TSLA\"]\n",
    "        #actions the listening\n",
    "        ws.send(json.dumps(listen_message))\n",
    "\n",
    "\n",
    "    def on_message(ws, message):\n",
    "        #Alert\n",
    "        print(\"Received Message\".format(datetime.datetime.now()))\n",
    "        print(message)\n",
    "        if message[\"stream\"][0] == \"T\":\n",
    "            global_dict[message[\"data\"][\"i\"]]= message[\"data\"] \n",
    "\n",
    "    #where should the websocket be listening\n",
    "    socket = 'wss://data.alpaca.markets/stream'\n",
    "    #create the websocket app\n",
    "    ws = websocket.WebSocketApp(socket,\n",
    "                              on_open=on_open,\n",
    "                              on_message=on_message)\n",
    "    #start the application\n",
    "    ws.run_forever()"
   ]
  },
  {
   "cell_type": "code",
   "execution_count": null,
   "metadata": {},
   "outputs": [],
   "source": [
    "#the more i think about it, the more this is just a helper function to exist incase there is a data breakdown\n",
    "def data_stage(global_dict, directory):\n",
    "    while True:\n",
    "        #data comes in faster than a second at a time, so this should be interesting in terms of how many records\n",
    "        #get collected for each csv\n",
    "        time.sleep(1)\n",
    "        #files are named with a timestamp\n",
    "        timestamp = str(datetime.datetime.now())\n",
    "        table = pd.DataFrame.from_dict(global_dict, orient=\"index\")\n",
    "        keys = global_dict.keys() #grabbing a list of the active keys so we can reove them from the dictionary\n",
    "        #actually remove the listed keys from the dict\n",
    "        list(map(global_dict.pop, keys))\n",
    "        #write everything down\n",
    "        table.to_csv(directory+'/data_staging/data_table_'+timestamp+'.csv', index=False)\n",
    "        print(\"Data Staged\"+' '+timestamp)"
   ]
  },
  {
   "cell_type": "code",
   "execution_count": null,
   "metadata": {},
   "outputs": [],
   "source": [
    "global_dict = {}\n",
    "directory = directory = os.getcwd()\n",
    "#grabbed the top thirty securities from: https://www.tradingview.com/markets/stocks-usa/market-movers-active/\n",
    "#this list tells the websocket which securities' trades to listen for\n",
    "securities = ['T.SNDL','T.NAKD','T.PLTR','T.NIO','T.FCEL',\\\n",
    "              'T.WORX','T.AAL','T.NAK','T.GE','T.ACB',\\\n",
    "              'T.IDEX','T.WORK','T.CCL','T.AAPL','T.SRNE',\\\n",
    "              'T.NNDM','T.MRNA','T.TSLA','T.APXT','T.ITUB',\\\n",
    "              'T.TTNP','T.RIG','T.RAIL','T.VALE','T.GNUS',\\\n",
    "              'T.TLRY','T.ZOM','T.SPY','T.FSR','T.PFE']"
   ]
  },
  {
   "cell_type": "code",
   "execution_count": null,
   "metadata": {},
   "outputs": [],
   "source": [
    "try:\n",
    "    _thread.start_new_thread(data_stream, (securities, global_dict,))\n",
    "    _thread.start_new_thread(data_stage, (global_dict, directory, ))\n",
    "except:\n",
    "    print('Unable to start threads...')\n",
    "\n",
    "while True:x\n",
    "    pass\n"
   ]
  },
  {
   "cell_type": "code",
   "execution_count": null,
   "metadata": {},
   "outputs": [],
   "source": [
    "\"\"\"\n",
    "\n",
    "{'stream': 'authorization',\n",
    "    'data': {'action': 'authenticate', 'status': 'authorized'}}\n",
    " \n",
    " \n",
    "{\"stream\": \"T.ACB\",\n",
    "\"data\": {\"ev\": \"T\",\n",
    "         \"T\": \"ACB\",\n",
    "         \"i\": \"62879147248441\",\n",
    "         \"x\": 17,\n",
    "         \"p\": 11.16,\n",
    "         \"s\": 30,\n",
    "         \"t\": 1606758407220000000,\n",
    "         \"c\": [37],\n",
    "         \"z\": 1}}\n",
    "\"\"\""
   ]
  }
 ],
 "metadata": {
  "kernelspec": {
   "display_name": "Python 3",
   "language": "python",
   "name": "python3"
  },
  "language_info": {
   "codemirror_mode": {
    "name": "ipython",
    "version": 3
   },
   "file_extension": ".py",
   "mimetype": "text/x-python",
   "name": "python",
   "nbconvert_exporter": "python",
   "pygments_lexer": "ipython3",
   "version": "3.7.4"
  },
  "toc": {
   "base_numbering": 1,
   "nav_menu": {},
   "number_sections": true,
   "sideBar": true,
   "skip_h1_title": false,
   "title_cell": "Table of Contents",
   "title_sidebar": "Contents",
   "toc_cell": false,
   "toc_position": {},
   "toc_section_display": true,
   "toc_window_display": false
  }
 },
 "nbformat": 4,
 "nbformat_minor": 2
}
